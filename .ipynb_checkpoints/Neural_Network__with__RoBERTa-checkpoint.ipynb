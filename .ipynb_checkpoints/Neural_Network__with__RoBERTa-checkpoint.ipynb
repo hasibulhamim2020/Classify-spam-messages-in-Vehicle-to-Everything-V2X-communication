{
 "cells": [
  {
   "cell_type": "code",
   "execution_count": null,
   "id": "d73adfec-05e3-4376-8271-5cdb5da9c5f2",
   "metadata": {},
   "outputs": [],
   "source": []
  },
  {
   "cell_type": "markdown",
   "id": "1ef69fe4-68e3-4236-ae94-9c2e6f00e631",
   "metadata": {},
   "source": [
    "Objective:\n",
    "Develop a Zero-Shot Learning (ZSL) model to classify spam messages in Vehicle-to-Everything (V2X) communication using the provided dataset (V2X_train - Sheet1.csv). The model should be able to generalize to unseen classes of spam messages that were not present during training.\n",
    "\n",
    "Dataset:\n",
    "V2X_Data.csv: Contains V2X communication messages with features like Source Vehicle, Destination Vehicle, Message Type, Message Content, Priority, and a label indicating whether the message is Spam (Yes/No)."
   ]
  },
  {
   "cell_type": "code",
   "execution_count": 26,
   "id": "2655818f-66ca-436f-b465-b16bbe60362a",
   "metadata": {},
   "outputs": [],
   "source": [
    "import pandas as pd\n",
    "import numpy as np\n",
    "import torch\n",
    "import torch.nn as nn\n",
    "import torch.optim as optim\n",
    "from torch.utils.data import DataLoader, TensorDataset\n",
    "from transformers import RobertaTokenizer, RobertaModel\n",
    "from sklearn.preprocessing import OneHotEncoder\n",
    "from sklearn.model_selection import train_test_split\n",
    "from sklearn.metrics import accuracy_score, precision_score, recall_score, f1_score, classification_report, confusion_matrix\n",
    "import seaborn as sns\n",
    "import matplotlib.pyplot as plt\n",
    "from textblob import TextBlob"
   ]
  },
  {
   "cell_type": "code",
   "execution_count": null,
   "id": "170d9fa4-fd45-4a46-bed7-66f7b289b85d",
   "metadata": {},
   "outputs": [],
   "source": []
  },
  {
   "cell_type": "code",
   "execution_count": 27,
   "id": "f61bd6df-a0b5-456b-8e9c-fae9c431c562",
   "metadata": {},
   "outputs": [],
   "source": [
    "import pandas as pd  # Import the pandas library for data manipulation\n",
    "\n",
    "# Step 1: Load the dataset\n",
    "df = pd.read_csv('V2X_Data.csv')  # Read the CSV file into a DataFrame"
   ]
  },
  {
   "cell_type": "markdown",
   "id": "ed5df209-8777-47d5-b507-a6ac7676927a",
   "metadata": {},
   "source": [
    "This code section is responsible for loading the V2X communication dataset from a CSV file into a pandas DataFrame. This DataFrame will be used for further data processing and analysis."
   ]
  },
  {
   "cell_type": "code",
   "execution_count": null,
   "id": "fcd84afc-c17b-4788-aebd-8c246617d90d",
   "metadata": {},
   "outputs": [],
   "source": []
  },
  {
   "cell_type": "code",
   "execution_count": null,
   "id": "7af0df42-a344-48dd-b566-f56c762f3f00",
   "metadata": {},
   "outputs": [],
   "source": []
  },
  {
   "cell_type": "code",
   "execution_count": 28,
   "id": "1bd295c1-5734-4b51-866a-867d55fe7f26",
   "metadata": {},
   "outputs": [],
   "source": [
    "import pandas as pd  # Ensure pandas is imported for data manipulation\n",
    "from sklearn.preprocessing import OneHotEncoder  # Import OneHotEncoder for encoding categorical features\n",
    "\n",
    "# Step 2: Data Preparation\n",
    "# Convert categorical features into numerical representations\n",
    "\n",
    "# List of categorical columns to be encoded\n",
    "categorical_columns = ['Source Vehicle', 'Destination Vehicle', 'Message Type', 'Priority']\n",
    "\n",
    "# Initialize the OneHotEncoder\n",
    "encoder = OneHotEncoder(sparse_output=False)  # `sparse_output=False` ensures the output is a dense array\n",
    "\n",
    "# Fit and transform the categorical columns\n",
    "encoded_features = encoder.fit_transform(df[categorical_columns])\n",
    "\n",
    "# Convert the encoded features into a DataFrame\n",
    "encoded_df = pd.DataFrame(encoded_features, columns=encoder.get_feature_names_out(categorical_columns))\n"
   ]
  },
  {
   "cell_type": "markdown",
   "id": "604af87c-3533-4155-8cd3-598f1e8ac7a4",
   "metadata": {},
   "source": [
    "This section is responsible for converting categorical features in the dataset into numerical representations using one-hot encoding. This transformation is necessary for machine learning models, which typically require numerical input.\n",
    "\n",
    "Dependencies:\n",
    "pandas: For handling data in DataFrame format.\n",
    "OneHotEncoder from sklearn.preprocessing: For converting categorical features into numerical format.Explanation:\n",
    "\n",
    "categorical_columns: A list of column names in the DataFrame that contain categorical data and need to be encoded.\n",
    "OneHotEncoder(sparse_output=False): Initializes the OneHotEncoder with sparse_output=False to return a dense array instead of a sparse matrix. This can be more convenient for working with small to medium-sized datasets.\n",
    "encoder.fit_transform(df[categorical_columns]): Applies the one-hot encoding to the specified categorical columns in the DataFrame df. This method returns a dense array of encoded features.\n",
    "encoded_df = pd.DataFrame(encoded_features, columns=encoder.get_feature_names_out(categorical_columns)): Converts the array of encoded features into a new DataFrame encoded_df with appropriate column names."
   ]
  },
  {
   "cell_type": "code",
   "execution_count": null,
   "id": "985543e4-e36f-4d3b-9656-b30b9804dc63",
   "metadata": {},
   "outputs": [],
   "source": []
  },
  {
   "cell_type": "code",
   "execution_count": null,
   "id": "a7707f2d-6a47-4709-a122-55ba05629187",
   "metadata": {},
   "outputs": [],
   "source": []
  },
  {
   "cell_type": "code",
   "execution_count": 29,
   "id": "279b2bee-a73c-440f-9468-80ecf8291719",
   "metadata": {},
   "outputs": [],
   "source": [
    "# Convert the Spam label into numerical values\n",
    "\n",
    "# Convert 'Spam' column to binary numerical values: 1 for 'Yes' and 0 for 'No'\n",
    "df['Spam'] = df['Spam'].apply(lambda x: 1 if x == 'Yes' else 0)\n"
   ]
  },
  {
   "cell_type": "markdown",
   "id": "fcdf7059-00e7-48ff-9b2d-4acfc6db497a",
   "metadata": {},
   "source": [
    "This section of the code is responsible for converting the categorical 'Spam' label into numerical values. This is a common preprocessing step in machine learning to convert categorical labels into a format suitable for model training.\n",
    "\n",
    "Explanation:\n",
    "df['Spam']: Refers to the 'Spam' column in the DataFrame df.\n",
    ".apply(lambda x: 1 if x == 'Yes' else 0): Uses the apply method with a lambda function to transform each value in the 'Spam' column. The lambda function checks if the value is 'Yes', in which case it converts it to 1. Otherwise, it converts it to 0."
   ]
  },
  {
   "cell_type": "code",
   "execution_count": null,
   "id": "999bd4c4-920e-4ed3-a0cf-b6623d6f9980",
   "metadata": {},
   "outputs": [],
   "source": []
  },
  {
   "cell_type": "code",
   "execution_count": null,
   "id": "ffac6625-47eb-4ec5-9076-b23103721c96",
   "metadata": {},
   "outputs": [],
   "source": []
  },
  {
   "cell_type": "code",
   "execution_count": 30,
   "id": "881aeaed-8596-46b1-bb31-66629d9b28db",
   "metadata": {},
   "outputs": [],
   "source": [
    "import pandas as pd  # Ensure pandas is imported for data manipulation\n",
    "from textblob import TextBlob  # Import TextBlob for sentiment analysis\n",
    "\n",
    "# Feature Engineering\n",
    "\n",
    "# Add a new feature: Message Length\n",
    "df['Message Length'] = df['Message Content'].apply(len)  \n",
    "# Computes the length of each message and stores it in a new column 'Message Length'\n",
    "\n",
    "# Add a new feature: Sentiment\n",
    "df['Sentiment'] = df['Message Content'].apply(lambda x: TextBlob(x).sentiment.polarity)\n",
    "# Uses TextBlob to compute the sentiment polarity of each message and stores it in a new column 'Sentiment'\n"
   ]
  },
  {
   "cell_type": "markdown",
   "id": "f69e1bd0-195f-4221-86ee-09251c946b93",
   "metadata": {},
   "source": [
    "This section enhances the dataset by creating new features that could potentially improve model performance. Specifically, it adds features for message length and sentiment.\n",
    "\n",
    "Dependencies:\n",
    "pandas: For handling data in DataFrame format.\n",
    "TextBlob: For performing sentiment analysis on text data.Explanation:\n",
    "df['Message Length'] = df['Message Content'].apply(len): Adds a new column named 'Message Length' to the DataFrame df, which contains the length of each message. The apply(len) function computes the length of each message in the 'Message Content' column.\n",
    "df['Sentiment'] = df['Message Content'].apply(lambda x: TextBlob(x).sentiment.polarity): Adds a new column named 'Sentiment' to the DataFrame df, which contains the sentiment polarity of each message. The TextBlob(x).sentiment.polarity computes the sentiment score, where the polarity score ranges from -1 (very negative) to +1 (very positive)."
   ]
  },
  {
   "cell_type": "code",
   "execution_count": null,
   "id": "b76196b5-3132-498f-901a-43fac3f80f1c",
   "metadata": {},
   "outputs": [],
   "source": []
  },
  {
   "cell_type": "code",
   "execution_count": null,
   "id": "91d122fa-c034-468e-a017-11ed1067de21",
   "metadata": {},
   "outputs": [],
   "source": []
  },
  {
   "cell_type": "code",
   "execution_count": 31,
   "id": "d8a3dceb-6f40-4942-b00e-1f254b665df0",
   "metadata": {},
   "outputs": [
    {
     "name": "stderr",
     "output_type": "stream",
     "text": [
      "C:\\Users\\Hasibul Hamim\\anaconda3\\envs\\RA_jpn\\lib\\site-packages\\transformers\\tokenization_utils_base.py:1601: FutureWarning: `clean_up_tokenization_spaces` was not set. It will be set to `True` by default. This behavior will be depracted in transformers v4.45, and will be then set to `False` by default. For more details check this issue: https://github.com/huggingface/transformers/issues/31884\n",
      "  warnings.warn(\n",
      "Some weights of RobertaModel were not initialized from the model checkpoint at roberta-base and are newly initialized: ['roberta.pooler.dense.bias', 'roberta.pooler.dense.weight']\n",
      "You should probably TRAIN this model on a down-stream task to be able to use it for predictions and inference.\n"
     ]
    }
   ],
   "source": [
    "import pandas as pd  # Ensure pandas is imported for data manipulation\n",
    "import torch  # Import PyTorch for tensor operations\n",
    "from transformers import RobertaTokenizer, RobertaModel  # Import RoBERTa tokenizer and model\n",
    "\n",
    "# Initialize RoBERTa tokenizer and model\n",
    "tokenizer = RobertaTokenizer.from_pretrained('roberta-base')  # Load the RoBERTa tokenizer\n",
    "model = RobertaModel.from_pretrained('roberta-base')  # Load the RoBERTa model\n",
    "\n",
    "# Function to get RoBERTa embeddings\n",
    "def get_roberta_embedding(text):\n",
    "    # Tokenize the input text and convert it into PyTorch tensors\n",
    "    inputs = tokenizer(text, return_tensors='pt', truncation=True, padding=True)\n",
    "    \n",
    "    # Forward pass through the RoBERTa model to get the embeddings\n",
    "    with torch.no_grad():\n",
    "        outputs = model(**inputs)\n",
    "    \n",
    "    # Average the token embeddings to get a single vector representation for the text\n",
    "    embeddings = outputs.last_hidden_state.mean(dim=1).squeeze().numpy()\n",
    "    return embeddings\n",
    "\n",
    "# Generate embeddings using RoBERTa\n",
    "df['Message Content Embedding'] = df['Message Content'].apply(get_roberta_embedding)\n",
    "# Apply the embedding function to each message content and store the resulting embeddings in a new column\n",
    "\n",
    "# Convert the embeddings from a list of arrays into a DataFrame\n",
    "embeddings_df = pd.DataFrame(df['Message Content Embedding'].tolist(), index=df.index)\n"
   ]
  },
  {
   "cell_type": "markdown",
   "id": "5047ce00-f302-402b-8e68-57dcfee22d68",
   "metadata": {},
   "source": [
    "This section of the code is used to generate embeddings for the 'Message Content' using the RoBERTa model. Embeddings are numerical representations of text that capture semantic meaning and are used as input features for machine learning models.\n",
    "\n",
    "Dependencies:\n",
    "\n",
    "pandas: For handling data in DataFrame format.\n",
    "torch: For tensor operations and handling PyTorch models.\n",
    "transformers: For using pre-trained models like RoBERTa from the Hugging Face library.\n",
    "Explanation:\n",
    "\n",
    "RobertaTokenizer.from_pretrained('roberta-base'): Loads the pre-trained RoBERTa tokenizer, which converts text into token IDs that the RoBERTa model can understand.\n",
    "RobertaModel.from_pretrained('roberta-base'): Loads the pre-trained RoBERTa model, which generates embeddings for the input text.\n",
    "get_roberta_embedding(text): Defines a function to obtain RoBERTa embeddings for a given text. The function:\n",
    "Tokenizes the input text using the tokenizer.\n",
    "Passes the tokenized input through the RoBERTa model to get the embeddings.\n",
    "Averages the token embeddings to create a single vector for the entire text.\n",
    "Converts the tensor to a NumPy array.\n",
    "df['Message Content Embedding'] = df['Message Content'].apply(get_roberta_embedding): Applies the get_roberta_embedding function to each message in the 'Message Content' column and stores the embeddings in a new column 'Message Content Embedding'.\n",
    "embeddings_df = pd.DataFrame(df['Message Content Embedding'].tolist(), index=df.index): Converts the list of embedding arrays into a DataFrame, where each row corresponds to the embeddings of a message."
   ]
  },
  {
   "cell_type": "code",
   "execution_count": null,
   "id": "899006f1-69ba-40af-b440-492d368a9dbc",
   "metadata": {},
   "outputs": [],
   "source": []
  },
  {
   "cell_type": "code",
   "execution_count": null,
   "id": "5ff5c922-87d0-4193-9d5e-ebf941ae6bde",
   "metadata": {},
   "outputs": [],
   "source": []
  },
  {
   "cell_type": "code",
   "execution_count": 32,
   "id": "ef85b56d-5a26-402d-a7cc-d7663567c8a1",
   "metadata": {},
   "outputs": [],
   "source": [
    "import pandas as pd  # Ensure pandas is imported for data manipulation\n",
    "\n",
    "# Merge embeddings with the main dataframe\n",
    "\n",
    "# Drop original categorical columns and non-numeric columns ('Message Content', 'Message Content Embedding')\n",
    "# Concatenate encoded categorical features to the remaining DataFrame\n",
    "df_encoded = pd.concat([df.drop(columns=categorical_columns + ['Message Content', 'Message Content Embedding']), encoded_df], axis=1)\n",
    "\n",
    "# Concatenate the embeddings DataFrame with the previously prepared DataFrame\n",
    "df_encoded = pd.concat([df_encoded, embeddings_df], axis=1)\n",
    "\n",
    "# Convert all column names to strings to ensure consistency\n",
    "df_encoded.columns = df_encoded.columns.astype(str)\n"
   ]
  },
  {
   "cell_type": "code",
   "execution_count": null,
   "id": "a681f3c4-9671-46c2-b24b-e13aebe745d3",
   "metadata": {},
   "outputs": [],
   "source": []
  },
  {
   "cell_type": "code",
   "execution_count": 33,
   "id": "6fa958f0-1283-4ad9-851f-21808d052b0e",
   "metadata": {},
   "outputs": [
    {
     "name": "stdout",
     "output_type": "stream",
     "text": [
      "Seen Classes: Emergency, Spam\n",
      "unSeen Classes: Roadwork, Weather, Traffic, Hazard\n",
      "Seen Classes: ['Emergency' 'Spam']\n",
      "Unseen Classes: ['Roadwork' 'Weather' 'Traffic' 'Hazard']\n"
     ]
    }
   ],
   "source": [
    "# Step 3: Identify Seen and Unseen Classes\n",
    "# seen_classes = df[df['Spam'] == 1]['Message Type'].unique()\n",
    "# unseen_classes = df[~df['Message Type'].isin(seen_classes)]['Message Type'].unique()\n",
    "\n",
    "# Filter for seen classes\n",
    "seen_classes_df = df[df['Message Type'].isin(['Emergency', 'Spam'])]\n",
    "# Extract unique seen classes\n",
    "seen_classes = seen_classes_df['Message Type'].unique()\n",
    "unseen_classes = df[~df['Message Type'].isin(seen_classes)]['Message Type'].unique()\n",
    "# Print the identified seen classes\n",
    "print(\"Seen Classes:\", ', '.join(seen_classes))\n",
    "# Print the identified seen classes\n",
    "print(\"unSeen Classes:\", ', '.join(unseen_classes))\n",
    "\n",
    "\n",
    "df_seen = df[df['Message Type'].isin(seen_classes)]\n",
    "df_unseen = df[df['Message Type'].isin(unseen_classes)]\n",
    "\n",
    "# Print the identified seen and unseen classes\n",
    "print(\"Seen Classes:\", seen_classes)\n",
    "print(\"Unseen Classes:\", unseen_classes)"
   ]
  },
  {
   "cell_type": "markdown",
   "id": "f83dff85-d6eb-4fd0-b43d-466f0be24dc8",
   "metadata": {},
   "source": [
    "This section combines the preprocessed features and embeddings into a single DataFrame suitable for machine learning tasks. It consolidates categorical encodings, additional features, and text embeddings.\n",
    "\n",
    "Dependencies:\n",
    "\n",
    "pandas: For handling data in DataFrame format.\n",
    "Explanation:\n",
    "\n",
    "df.drop(columns=categorical_columns + ['Message Content', 'Message Content Embedding']): Drops the original categorical columns and the 'Message Content' column from the DataFrame df. It also drops the 'Message Content Embedding' column to avoid redundancy.\n",
    "pd.concat([..., encoded_df], axis=1): Concatenates the DataFrame with the encoded categorical features (encoded_df) along the columns (axis=1).\n",
    "pd.concat([df_encoded, embeddings_df], axis=1): Appends the DataFrame containing the RoBERTa embeddings (embeddings_df) to the previously prepared DataFrame (df_encoded).\n",
    "df_encoded.columns = df_encoded.columns.astype(str): Converts all column names to strings to ensure consistency and avoid potential issues with column name types during further processing."
   ]
  },
  {
   "cell_type": "code",
   "execution_count": null,
   "id": "7830eb65-c451-46a3-aa11-68a989597a17",
   "metadata": {},
   "outputs": [],
   "source": []
  },
  {
   "cell_type": "code",
   "execution_count": null,
   "id": "c993e28b-0dc1-4211-946d-757c88eeacdb",
   "metadata": {},
   "outputs": [],
   "source": []
  },
  {
   "cell_type": "code",
   "execution_count": 34,
   "id": "f6241190-1a8d-41ed-8975-f1f179e64e98",
   "metadata": {},
   "outputs": [
    {
     "name": "stdout",
     "output_type": "stream",
     "text": [
      "X_test_seen shape: (82, 834)\n",
      "X_test_unseen shape: (106, 834)\n"
     ]
    }
   ],
   "source": [
    "import pandas as pd  # Ensure pandas is imported for data manipulation\n",
    "from sklearn.model_selection import train_test_split  # Import train_test_split for splitting data\n",
    "\n",
    "# Step 4: Split the Data into Training and Testing Sets\n",
    "\n",
    "# Split the data into training and testing sets\n",
    "# test_size=0.2 specifies that 20% of the data should be used for testing\n",
    "# stratify=df['Spam'] ensures the proportion of spam and non-spam messages is maintained in both sets\n",
    "# random_state=42 ensures that the split is reproducible\n",
    "X_train, X_test, y_train, y_test = train_test_split(df_encoded, df['Spam'], test_size=0.2, stratify=df['Spam'], random_state=42)\n",
    "\n",
    "# Extract training and testing data for seen and unseen classes\n",
    "\n",
    "# Combine the training features with their corresponding rows from the original DataFrame\n",
    "df_train = pd.concat([df.iloc[X_train.index], pd.DataFrame(X_train)], axis=1)\n",
    "\n",
    "# Combine the testing features with their corresponding rows from the original DataFrame\n",
    "df_test = pd.concat([df.iloc[X_test.index], pd.DataFrame(X_test)], axis=1)\n",
    "\n",
    "# Filter training data to include only seen classes\n",
    "X_train_seen = X_train[df_train['Message Type'].isin(seen_classes)]\n",
    "y_train_seen = y_train[df_train['Message Type'].isin(seen_classes)]\n",
    "\n",
    "# Filter testing data to include only seen classes\n",
    "X_test_seen = X_test[df_test['Message Type'].isin(seen_classes)]\n",
    "y_test_seen = y_test[df_test['Message Type'].isin(seen_classes)]\n",
    "\n",
    "# Filter testing data to include only unseen classes\n",
    "X_test_unseen = X_test[df_test['Message Type'].isin(unseen_classes)]\n",
    "y_test_unseen = y_test[df_test['Message Type'].isin(unseen_classes)]\n",
    "\n",
    "# Ensure labels are numeric (convert from any potential non-numeric types)\n",
    "y_train_seen = y_train_seen.astype(int)\n",
    "y_test_seen = y_test_seen.astype(int)\n",
    "y_test_unseen = y_test_unseen.astype(int)\n",
    "\n",
    "# Print the shape of the testing sets for seen and unseen classes\n",
    "print(f\"X_test_seen shape: {X_test_seen.shape}\")\n",
    "print(f\"X_test_unseen shape: {X_test_unseen.shape}\")\n"
   ]
  },
  {
   "cell_type": "code",
   "execution_count": null,
   "id": "e5b025d8-b40e-4e1d-abc7-b7ef58fc7410",
   "metadata": {},
   "outputs": [],
   "source": []
  },
  {
   "cell_type": "code",
   "execution_count": 35,
   "id": "3e5114ae-dd4c-42dd-9f94-4992c4678fb2",
   "metadata": {},
   "outputs": [],
   "source": [
    "import torch  # Ensure PyTorch is imported for tensor operations\n",
    "\n",
    "# Convert data to PyTorch tensors\n",
    "\n",
    "# Convert training features for seen classes to PyTorch tensors with float32 data type\n",
    "X_train_tensor = torch.tensor(X_train_seen.values, dtype=torch.float32)\n",
    "\n",
    "# Convert training labels for seen classes to PyTorch tensors with long data type (for classification labels)\n",
    "y_train_tensor = torch.tensor(y_train_seen.values, dtype=torch.long)\n",
    "\n",
    "# Convert testing features for seen classes to PyTorch tensors with float32 data type\n",
    "X_test_tensor = torch.tensor(X_test_seen.values, dtype=torch.float32)\n",
    "\n",
    "# Convert testing labels for seen classes to PyTorch tensors with long data type (for classification labels)\n",
    "y_test_tensor = torch.tensor(y_test_seen.values, dtype=torch.long)\n",
    "\n",
    "# Convert testing features for unseen classes to PyTorch tensors with float32 data type\n",
    "X_test_unseen_tensor = torch.tensor(X_test_unseen.values, dtype=torch.float32)\n",
    "\n",
    "# Convert testing labels for unseen classes to PyTorch tensors with long data type (for classification labels)\n",
    "y_test_unseen_tensor = torch.tensor(y_test_unseen.values, dtype=torch.long)\n"
   ]
  },
  {
   "cell_type": "markdown",
   "id": "bb931e64-7952-4318-b420-354cb1173712",
   "metadata": {},
   "source": [
    "torch.tensor(X_train_seen.values, dtype=torch.float32): Converts the training feature values for seen classes into a PyTorch tensor with a float32 data type. This is required for numerical stability and compatibility with many PyTorch operations.\n",
    "torch.tensor(y_train_seen.values, dtype=torch.long): Converts the training labels for seen classes into a PyTorch tensor with a long data type. The long type is typically used for class labels in classification tasks.\n",
    "torch.tensor(X_test_seen.values, dtype=torch.float32): Converts the testing feature values for seen classes into a PyTorch tensor.\n",
    "torch.tensor(y_test_seen.values, dtype=torch.long): Converts the testing labels for seen classes into a PyTorch tensor.\n",
    "torch.tensor(X_test_unseen.values, dtype=torch.float32): Converts the testing feature values for unseen classes into a PyTorch tensor.\n",
    "torch.tensor(y_test_unseen.values, dtype=torch.long): Converts the testing labels for unseen classes into a PyTorch tensor."
   ]
  },
  {
   "cell_type": "code",
   "execution_count": null,
   "id": "4d7f9715-a697-43fe-a80b-0c5ad411b45e",
   "metadata": {},
   "outputs": [],
   "source": []
  },
  {
   "cell_type": "code",
   "execution_count": null,
   "id": "9974058e-329b-4024-86bd-ae3df64d7107",
   "metadata": {},
   "outputs": [],
   "source": []
  },
  {
   "cell_type": "code",
   "execution_count": 38,
   "id": "9fb0f384-771d-4744-b1b5-394ab0c78318",
   "metadata": {},
   "outputs": [
    {
     "name": "stdout",
     "output_type": "stream",
     "text": [
      "Epoch [1/10], Loss: 0.5736\n",
      "Epoch [2/10], Loss: 0.7079\n",
      "Epoch [3/10], Loss: 0.6923\n",
      "Epoch [4/10], Loss: 0.7039\n",
      "Epoch [5/10], Loss: 0.5051\n",
      "Epoch [6/10], Loss: 0.6169\n",
      "Epoch [7/10], Loss: 0.4820\n",
      "Epoch [8/10], Loss: 0.4202\n",
      "Epoch [9/10], Loss: 0.3525\n",
      "Epoch [10/10], Loss: 0.3510\n"
     ]
    }
   ],
   "source": [
    "import torch\n",
    "import torch.nn as nn\n",
    "import torch.optim as optim\n",
    "from torch.utils.data import DataLoader, TensorDataset\n",
    "\n",
    "# Define the neural network\n",
    "class ZSLNetwork(nn.Module):\n",
    "    def __init__(self, input_dim, hidden_dim, output_dim):\n",
    "        \"\"\"\n",
    "        Initialize the neural network.\n",
    "        \n",
    "        Parameters:\n",
    "        - input_dim: Number of input features.\n",
    "        - hidden_dim: Number of neurons in the hidden layer.\n",
    "        - output_dim: Number of output classes (for classification).\n",
    "        \"\"\"\n",
    "        super(ZSLNetwork, self).__init__()\n",
    "        # Define the first fully connected layer\n",
    "        self.fc1 = nn.Linear(input_dim, hidden_dim)\n",
    "        # Define the second fully connected layer\n",
    "        self.fc2 = nn.Linear(hidden_dim, output_dim)\n",
    "        # Define the ReLU activation function\n",
    "        self.relu = nn.ReLU()\n",
    "        # Define the softmax activation function for the output layer\n",
    "        self.softmax = nn.Softmax(dim=1)\n",
    "\n",
    "    def forward(self, x):\n",
    "        \"\"\"\n",
    "        Forward pass of the neural network.\n",
    "        \n",
    "        Parameters:\n",
    "        - x: Input tensor.\n",
    "        \n",
    "        Returns:\n",
    "        - x: Output tensor after applying layers and activations.\n",
    "        \"\"\"\n",
    "        # Apply ReLU activation after the first fully connected layer\n",
    "        x = self.relu(self.fc1(x))\n",
    "        # Apply the second fully connected layer\n",
    "        x = self.fc2(x)\n",
    "        # Apply softmax to obtain probability distribution\n",
    "        x = self.softmax(x)\n",
    "        return x\n",
    "\n",
    "# Initialize and train the model\n",
    "\n",
    "# Get the number of input features\n",
    "input_dim = X_train_tensor.shape[1]\n",
    "# Define the number of neurons in the hidden layer\n",
    "hidden_dim = 128\n",
    "# Define the number of output classes (number of unique labels)\n",
    "output_dim = len(np.unique(y_train_seen))  # Number of classes\n",
    "\n",
    "# Instantiate the model\n",
    "model = ZSLNetwork(input_dim, hidden_dim, output_dim)\n",
    "# Define the loss function (cross-entropy loss for classification)\n",
    "criterion = nn.CrossEntropyLoss()\n",
    "# Define the optimizer (Adam optimizer with a learning rate of 0.001)\n",
    "optimizer = optim.Adam(model.parameters(), lr=0.001)\n",
    "\n",
    "# Create a TensorDataset and DataLoader for training\n",
    "train_dataset = TensorDataset(X_train_tensor, y_train_tensor)\n",
    "train_loader = DataLoader(train_dataset, batch_size=64, shuffle=True)  # Load data in batches and shuffle\n",
    "\n",
    "# Training loop\n",
    "num_epochs = 10  # Number of epochs for training\n",
    "for epoch in range(num_epochs):\n",
    "    model.train()  # Set the model to training mode\n",
    "    for inputs, labels in train_loader:\n",
    "        # Zero the gradients before the backward pass\n",
    "        optimizer.zero_grad()\n",
    "        # Perform a forward pass to get predictions\n",
    "        outputs = model(inputs)\n",
    "        # Compute the loss\n",
    "        loss = criterion(outputs, labels)\n",
    "        # Perform backward pass to compute gradients\n",
    "        loss.backward()\n",
    "        # Update the model parameters\n",
    "        optimizer.step()\n",
    "\n",
    "    # Print the loss for the current epoch\n",
    "    print(f'Epoch [{epoch+1}/{num_epochs}], Loss: {loss.item():.4f}')\n"
   ]
  },
  {
   "cell_type": "code",
   "execution_count": null,
   "id": "e620de09-5750-424f-bf77-8e8432db45d4",
   "metadata": {},
   "outputs": [],
   "source": []
  },
  {
   "cell_type": "code",
   "execution_count": null,
   "id": "58cdf5e9-cf20-49de-baf2-68e0bbf57dd5",
   "metadata": {},
   "outputs": [],
   "source": []
  },
  {
   "cell_type": "code",
   "execution_count": 39,
   "id": "74939046-bd20-4aad-9016-1bc1110b5eec",
   "metadata": {},
   "outputs": [
    {
     "name": "stdout",
     "output_type": "stream",
     "text": [
      "Seen Class - Accuracy: 1.0000\n",
      "Seen Class - Precision: 1.0000\n",
      "Seen Class - Recall: 1.0000\n",
      "Seen Class - F1-Score: 1.0000\n",
      "\n",
      "Classification Report for Seen Classes:\n",
      "              precision    recall  f1-score   support\n",
      "\n",
      "    Not Spam       1.00      1.00      1.00        35\n",
      "        Spam       1.00      1.00      1.00        47\n",
      "\n",
      "    accuracy                           1.00        82\n",
      "   macro avg       1.00      1.00      1.00        82\n",
      "weighted avg       1.00      1.00      1.00        82\n",
      "\n"
     ]
    },
    {
     "data": {
      "image/png": "[encoded data removed]",
      "text/plain": [
       "<Figure size 640x480 with 2 Axes>"
      ]
     },
     "metadata": {},
     "output_type": "display_data"
    },
    {
     "name": "stdout",
     "output_type": "stream",
     "text": [
      "Unseen Class - Accuracy: 1.0000\n",
      "Unseen Class - Precision: 1.0000\n",
      "Unseen Class - Recall: 1.0000\n",
      "Unseen Class - F1-Score: 1.0000\n",
      "\n",
      "Classification Report for Unseen Classes:\n",
      "              precision    recall  f1-score   support\n",
      "\n",
      "    Not Spam       1.00      1.00      1.00       105\n",
      "        Spam       1.00      1.00      1.00         1\n",
      "\n",
      "    accuracy                           1.00       106\n",
      "   macro avg       1.00      1.00      1.00       106\n",
      "weighted avg       1.00      1.00      1.00       106\n",
      "\n"
     ]
    },
    {
     "data": {
      "image/png": "[encoded data removed]",
      "text/plain": [
       "<Figure size 640x480 with 2 Axes>"
      ]
     },
     "metadata": {},
     "output_type": "display_data"
    }
   ],
   "source": [
    "import torch\n",
    "import numpy as np\n",
    "import seaborn as sns\n",
    "import matplotlib.pyplot as plt\n",
    "from sklearn.metrics import (accuracy_score, precision_score, recall_score, \n",
    "                             f1_score, classification_report, confusion_matrix)\n",
    "\n",
    "# Evaluate the model on seen classes\n",
    "model.eval()  # Set the model to evaluation mode\n",
    "with torch.no_grad():  # Disable gradient computation\n",
    "    # Perform inference on the seen classes test data\n",
    "    outputs_seen = model(X_test_tensor)\n",
    "    _, predicted_seen = torch.max(outputs_seen, 1)  # Get the predicted class labels\n",
    "    y_pred_seen = predicted_seen.numpy()  # Convert predictions to NumPy array\n",
    "\n",
    "    # Calculate evaluation metrics for seen classes\n",
    "    accuracy_seen = accuracy_score(y_test_tensor.numpy(), y_pred_seen)\n",
    "    precision_seen = precision_score(y_test_tensor.numpy(), y_pred_seen, average='weighted')\n",
    "    recall_seen = recall_score(y_test_tensor.numpy(), y_pred_seen, average='weighted')\n",
    "    f1_seen = f1_score(y_test_tensor.numpy(), y_pred_seen, average='weighted')\n",
    "\n",
    "    # Print evaluation metrics for seen classes\n",
    "    print(f\"Seen Class - Accuracy: {accuracy_seen:.4f}\")\n",
    "    print(f\"Seen Class - Precision: {precision_seen:.4f}\")\n",
    "    print(f\"Seen Class - Recall: {recall_seen:.4f}\")\n",
    "    print(f\"Seen Class - F1-Score: {f1_seen:.4f}\")\n",
    "\n",
    "    # Classification Report for Seen Classes\n",
    "    print(\"\\nClassification Report for Seen Classes:\")\n",
    "    print(classification_report(y_test_tensor.numpy(), y_pred_seen, target_names=['Not Spam', 'Spam']))\n",
    "\n",
    "    # Confusion Matrix for Seen Classes\n",
    "    conf_matrix_seen = confusion_matrix(y_test_tensor.numpy(), y_pred_seen)\n",
    "    sns.heatmap(conf_matrix_seen, annot=True, fmt='d', cmap='Blues', xticklabels=['Not Spam', 'Spam'], yticklabels=['Not Spam', 'Spam'])\n",
    "    plt.title('Confusion Matrix for Seen Classes')\n",
    "    plt.xlabel('Predicted')\n",
    "    plt.ylabel('True')\n",
    "    plt.show()\n",
    "\n",
    "    # Evaluate the model on unseen classes\n",
    "    outputs_unseen = model(X_test_unseen_tensor)\n",
    "    _, predicted_unseen = torch.max(outputs_unseen, 1)  # Get the predicted class labels\n",
    "    y_pred_unseen = predicted_unseen.numpy()  # Convert predictions to NumPy array\n",
    "\n",
    "    # Calculate evaluation metrics for unseen classes\n",
    "    accuracy_unseen = accuracy_score(y_test_unseen_tensor.numpy(), y_pred_unseen)\n",
    "    precision_unseen = precision_score(y_test_unseen_tensor.numpy(), y_pred_unseen, average='weighted')\n",
    "    recall_unseen = recall_score(y_test_unseen_tensor.numpy(), y_pred_unseen, average='weighted')\n",
    "    f1_unseen = f1_score(y_test_unseen_tensor.numpy(), y_pred_unseen, average='weighted')\n",
    "\n",
    "    # Print evaluation metrics for unseen classes\n",
    "    print(f\"Unseen Class - Accuracy: {accuracy_unseen:.4f}\")\n",
    "    print(f\"Unseen Class - Precision: {precision_unseen:.4f}\")\n",
    "    print(f\"Unseen Class - Recall: {recall_unseen:.4f}\")\n",
    "    print(f\"Unseen Class - F1-Score: {f1_unseen:.4f}\")\n",
    "\n",
    "    # Determine unique classes in the test set and predictions\n",
    "    unique_classes = np.unique(np.concatenate((y_test_unseen_tensor.numpy(), y_pred_unseen)))\n",
    "    \n",
    "    # Dynamically set target names based on unique classes present\n",
    "    target_names = ['Not Spam' if i == 0 else 'Spam' for i in unique_classes]\n",
    "    \n",
    "    # Classification Report for Unseen Classes\n",
    "    print(\"\\nClassification Report for Unseen Classes:\")\n",
    "    print(classification_report(y_test_unseen_tensor.numpy(), y_pred_unseen, target_names=target_names))\n",
    "\n",
    "    # Confusion Matrix for Unseen Classes\n",
    "    conf_matrix_unseen = confusion_matrix(y_test_unseen_tensor.numpy(), y_pred_unseen)\n",
    "    sns.heatmap(conf_matrix_unseen, annot=True, fmt='d', cmap='Blues', xticklabels=target_names, yticklabels=target_names)\n",
    "    plt.title('Confusion Matrix for Unseen Classes')\n",
    "    plt.xlabel('Predicted')\n",
    "    plt.ylabel('True')\n",
    "    plt.show()\n"
   ]
  },
  {
   "cell_type": "code",
   "execution_count": null,
   "id": "4b7b09ca-84e9-4df2-9a17-1dd402fcd643",
   "metadata": {},
   "outputs": [],
   "source": []
  },
  {
   "cell_type": "code",
   "execution_count": null,
   "id": "ab6d484c-770d-4d74-992e-edf15366c7b6",
   "metadata": {},
   "outputs": [],
   "source": []
  },
  {
   "cell_type": "code",
   "execution_count": null,
   "id": "bfc35a9f-7ff2-4157-8b22-d1e4b39d11d9",
   "metadata": {},
   "outputs": [],
   "source": []
  }
 ],
 "metadata": {
  "kernelspec": {
   "display_name": "Python 3 (ipykernel)",
   "language": "python",
   "name": "python3"
  },
  "language_info": {
   "codemirror_mode": {
    "name": "ipython",
    "version": 3
   },
   "file_extension": ".py",
   "mimetype": "text/x-python",
   "name": "python",
   "nbconvert_exporter": "python",
   "pygments_lexer": "ipython3",
   "version": "3.10.14"
  }
 },
 "nbformat": 4,
 "nbformat_minor": 5
}
